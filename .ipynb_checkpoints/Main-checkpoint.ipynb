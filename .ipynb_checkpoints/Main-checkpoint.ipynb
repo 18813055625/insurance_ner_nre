{
 "cells": [
  {
   "cell_type": "markdown",
   "metadata": {},
   "source": [
    "# 训练char2vec"
   ]
  },
  {
   "cell_type": "code",
   "execution_count": 1,
   "metadata": {},
   "outputs": [],
   "source": [
    "# 输出每个cell的运行时间\n",
    "%load_ext autotime\n",
    "# https://github.com/cpcloud/ipython-autotime"
   ]
  },
  {
   "cell_type": "code",
   "execution_count": 2,
   "metadata": {},
   "outputs": [
    {
     "name": "stdout",
     "output_type": "stream",
     "text": [
      "time: 1.02 ms\n"
     ]
    }
   ],
   "source": [
    "import warnings\n",
    "warnings.filterwarnings(\"ignore\")"
   ]
  },
  {
   "cell_type": "code",
   "execution_count": 3,
   "metadata": {},
   "outputs": [
    {
     "name": "stderr",
     "output_type": "stream",
     "text": [
      "Using TensorFlow backend.\n"
     ]
    },
    {
     "name": "stdout",
     "output_type": "stream",
     "text": [
      "time: 4.42 s\n"
     ]
    }
   ],
   "source": [
    "root_path = \"data/round1/ruijin_round1_train_20181022/ruijin_round1_train2_20181022/\"\n",
    "w2v_input_path = \"model/char2vec_prepareData.txt\"\n",
    "w2v_output_path = \"model/char2vec.model\"\n",
    "\n",
    "from Model import Char2VecTrainer\n",
    "char2vec = Char2VecTrainer(root=root_path,w2v_file_path=w2v_output_path)"
   ]
  },
  {
   "cell_type": "code",
   "execution_count": 4,
   "metadata": {},
   "outputs": [
    {
     "name": "stdout",
     "output_type": "stream",
     "text": [
      "time: 7.41 s\n"
     ]
    }
   ],
   "source": [
    "char2vec.prepare_data()\n",
    "char2vec.train(w2v_output_path,emb_size=256)"
   ]
  },
  {
   "cell_type": "code",
   "execution_count": 5,
   "metadata": {},
   "outputs": [
    {
     "name": "stdout",
     "output_type": "stream",
     "text": [
      "w2v的模型维度是：256\n",
      "w2v的模型的词表总长是：2301\n",
      "time: 49.9 ms\n"
     ]
    }
   ],
   "source": [
    "char2vec_model = char2vec.load()"
   ]
  },
  {
   "cell_type": "markdown",
   "metadata": {},
   "source": [
    "# 数据预处理"
   ]
  },
  {
   "cell_type": "markdown",
   "metadata": {},
   "source": [
    "## 创建word2idx"
   ]
  },
  {
   "cell_type": "code",
   "execution_count": 6,
   "metadata": {},
   "outputs": [
    {
     "name": "stdout",
     "output_type": "stream",
     "text": [
      "time: 1.6 s\n"
     ]
    }
   ],
   "source": [
    "from Entity import Document\n",
    "from Data_Set import DataSet\n",
    "from Utils import scan_files\n",
    "from sklearn.model_selection import ShuffleSplit\n",
    "\n",
    "file_names = scan_files(root_path)\n",
    "\n",
    "rs = ShuffleSplit(n_splits=1, test_size=.15, random_state=2019)\n",
    "train_idx,test_idx = next(rs.split(file_names))\n",
    "\n",
    "train_file_names = [file_names[idx] for idx in train_idx]\n",
    "test_file_names = [file_names[idx] for idx in test_idx]\n",
    "\n",
    "whole_set = DataSet(train_file_names,root_path,vocab_size=-1)\n",
    "word2idx = whole_set.word2idx\n",
    "del whole_set"
   ]
  },
  {
   "cell_type": "markdown",
   "metadata": {},
   "source": [
    "## 创建emb_matrix"
   ]
  },
  {
   "cell_type": "code",
   "execution_count": 7,
   "metadata": {},
   "outputs": [
    {
     "name": "stdout",
     "output_type": "stream",
     "text": [
      "time: 3.4 s\n"
     ]
    }
   ],
   "source": [
    "import numpy as np\n",
    "\n",
    "vec_size = char2vec_model.wv.vector_size\n",
    "emb_matrix = np.zeros(char2vec_model.wv.vector_size)\n",
    "\n",
    "def random_vec(vec_size):\n",
    "    vec = np.random.random(size=vec_size)\n",
    "    vec = vec - vec.mean()\n",
    "    return vec\n",
    "\n",
    "for c in word2idx.keys():\n",
    "    if c is \"_padding\":\n",
    "        word2idx[c] = 0\n",
    "    elif c is \"_unk\":\n",
    "        emb = random_vec(vec_size)\n",
    "        emb_matrix = np.vstack((emb_matrix,emb))\n",
    "        word2idx[c] = 1\n",
    "    else:\n",
    "        if c in [\" \",\"\\n\"]:\n",
    "            idx = emb_matrix.shape[0]\n",
    "            emb = random_vec(vec_size)\n",
    "            emb_matrix = np.vstack((emb_matrix,emb))\n",
    "            word2idx[c] = idx\n",
    "        elif c not in char2vec_model.wv.vocab.keys():\n",
    "            idx = word2idx[\"_unk\"]\n",
    "            word2idx[c] = idx\n",
    "        else:\n",
    "            idx = emb_matrix.shape[0]\n",
    "            emb = char2vec_model.wv[c]\n",
    "            emb_matrix = np.vstack((emb_matrix,emb))\n",
    "            word2idx[c] = idx"
   ]
  },
  {
   "cell_type": "markdown",
   "metadata": {},
   "source": [
    "## 读取并切分数据集"
   ]
  },
  {
   "cell_type": "code",
   "execution_count": 8,
   "metadata": {},
   "outputs": [
    {
     "name": "stdout",
     "output_type": "stream",
     "text": [
      "time: 663 ms\n"
     ]
    }
   ],
   "source": [
    "rs = ShuffleSplit(n_splits=1, test_size=.20, random_state=2019)\n",
    "train_idx,val_idx = next(rs.split(train_file_names))\n",
    "\n",
    "train_file_names = [file_names[idx] for idx in train_idx]\n",
    "val_file_names = [file_names[idx] for idx in val_idx]\n",
    "\n",
    "trainset = DataSet(train_file_names,root_path,word2idx)\n",
    "valset = DataSet(val_file_names,root_path,word2idx)\n",
    "testset = DataSet(test_file_names,root_path,word2idx)"
   ]
  },
  {
   "cell_type": "markdown",
   "metadata": {},
   "source": [
    "### 向量化 + 滑动窗切分句子"
   ]
  },
  {
   "cell_type": "code",
   "execution_count": 9,
   "metadata": {},
   "outputs": [
    {
     "name": "stdout",
     "output_type": "stream",
     "text": [
      "time: 6.85 s\n"
     ]
    }
   ],
   "source": [
    "import pickle\n",
    "sents_set = []\n",
    "\n",
    "for dataset in [trainset,valset,testset]:\n",
    "    sents = dataset.get_sents_set(70,10)\n",
    "    sents_set.append(sents)\n",
    "\n",
    "# 持久化\n",
    "pickle.dump(sents_set,open('pickle_data/sents_set.pkl','wb'))"
   ]
  },
  {
   "cell_type": "markdown",
   "metadata": {},
   "source": [
    "### 创建X-Y"
   ]
  },
  {
   "cell_type": "code",
   "execution_count": 11,
   "metadata": {},
   "outputs": [
    {
     "name": "stdout",
     "output_type": "stream",
     "text": [
      "(30780, 90) (30780, 90, 1)\n",
      "(7647, 90) (7647, 90, 1)\n",
      "(7161, 90)\n",
      "time: 4.69 s\n"
     ]
    }
   ],
   "source": [
    "from Prepare_sents import get_sentsArray as get_array\n",
    "import pickle\n",
    "\n",
    "sents_set = pickle.load(open('pickle_data/sents_set.pkl','rb'))\n",
    "\n",
    "train_X,train_Y = get_array(sents_set[0])\n",
    "train_Y = np.expand_dims(train_Y,-1)\n",
    "\n",
    "val_X,val_Y = get_array(sents_set[1])\n",
    "val_Y = np.expand_dims(val_Y,-1)\n",
    "\n",
    "test_X,_ = get_array(sents_set[2])\n",
    "\n",
    "print(train_X.shape,train_Y.shape)\n",
    "print(val_X.shape,val_Y.shape)\n",
    "print(test_X.shape)"
   ]
  },
  {
   "cell_type": "markdown",
   "metadata": {},
   "source": [
    "# 创建模型"
   ]
  },
  {
   "cell_type": "code",
   "execution_count": 12,
   "metadata": {},
   "outputs": [
    {
     "name": "stdout",
     "output_type": "stream",
     "text": [
      "Model: \"model_1\"\n",
      "_________________________________________________________________\n",
      "Layer (type)                 Output Shape              Param #   \n",
      "=================================================================\n",
      "input_1 (InputLayer)         (None, 90)                0         \n",
      "_________________________________________________________________\n",
      "embedding_1 (Embedding)      (None, 90, 256)           589312    \n",
      "_________________________________________________________________\n",
      "dropout_1 (Dropout)          (None, 90, 256)           0         \n",
      "_________________________________________________________________\n",
      "bidirectional_1 (Bidirection (None, 90, 512)           1050624   \n",
      "_________________________________________________________________\n",
      "crf_1 (CRF)                  (None, 90, 16)            8496      \n",
      "=================================================================\n",
      "Total params: 1,648,432\n",
      "Trainable params: 1,059,120\n",
      "Non-trainable params: 589,312\n",
      "_________________________________________________________________\n",
      "WARNING:tensorflow:From d:\\anaconda3\\envs\\tf14_py36\\lib\\site-packages\\tensorflow\\python\\ops\\math_ops.py:2403: add_dispatch_support.<locals>.wrapper (from tensorflow.python.ops.array_ops) is deprecated and will be removed in a future version.\n",
      "Instructions for updating:\n",
      "Use tf.where in 2.0, which has the same broadcast rule as np.where\n",
      "开始训练啦！！\n",
      "============================================================\n",
      "WARNING:tensorflow:From d:\\anaconda3\\envs\\tf14_py36\\lib\\site-packages\\keras\\backend\\tensorflow_backend.py:422: The name tf.global_variables is deprecated. Please use tf.compat.v1.global_variables instead.\n",
      "\n",
      "Train on 30780 samples, validate on 7647 samples\n",
      "Epoch 1/50\n",
      "30780/30780 [==============================] - 277s 9ms/step - loss: 0.3224 - crf_viterbi_accuracy: 0.8856 - val_loss: 0.2259 - val_crf_viterbi_accuracy: 0.8967\n",
      "Epoch 2/50\n",
      "23680/30780 [======================>.......] - ETA: 55s - loss: 0.1656 - crf_viterbi_accuracy: 0.9139"
     ]
    },
    {
     "ename": "KeyboardInterrupt",
     "evalue": "",
     "output_type": "error",
     "traceback": [
      "\u001b[1;31m---------------------------------------------------------------------------\u001b[0m",
      "\u001b[1;31mKeyboardInterrupt\u001b[0m                         Traceback (most recent call last)",
      "\u001b[1;32m<ipython-input-12-4f97c885f14e>\u001b[0m in \u001b[0;36m<module>\u001b[1;34m\u001b[0m\n\u001b[0;32m     18\u001b[0m                     \u001b[0mepochs\u001b[0m \u001b[1;33m=\u001b[0m \u001b[0mEPOCH\u001b[0m\u001b[1;33m,\u001b[0m\u001b[1;33m\u001b[0m\u001b[1;33m\u001b[0m\u001b[0m\n\u001b[0;32m     19\u001b[0m                     \u001b[0mcallbacks\u001b[0m \u001b[1;33m=\u001b[0m \u001b[1;33m[\u001b[0m\u001b[0mearly_stopping\u001b[0m\u001b[1;33m]\u001b[0m\u001b[1;33m,\u001b[0m\u001b[1;33m\u001b[0m\u001b[1;33m\u001b[0m\u001b[0m\n\u001b[1;32m---> 20\u001b[1;33m                     \u001b[0mvalidation_data\u001b[0m \u001b[1;33m=\u001b[0m \u001b[1;33m(\u001b[0m\u001b[0mval_X\u001b[0m\u001b[1;33m,\u001b[0m\u001b[0mval_Y\u001b[0m\u001b[1;33m)\u001b[0m\u001b[1;33m\u001b[0m\u001b[1;33m\u001b[0m\u001b[0m\n\u001b[0m\u001b[0;32m     21\u001b[0m                     )\n",
      "\u001b[1;32md:\\anaconda3\\envs\\tf14_py36\\lib\\site-packages\\keras\\engine\\training.py\u001b[0m in \u001b[0;36mfit\u001b[1;34m(self, x, y, batch_size, epochs, verbose, callbacks, validation_split, validation_data, shuffle, class_weight, sample_weight, initial_epoch, steps_per_epoch, validation_steps, validation_freq, max_queue_size, workers, use_multiprocessing, **kwargs)\u001b[0m\n\u001b[0;32m   1237\u001b[0m                                         \u001b[0msteps_per_epoch\u001b[0m\u001b[1;33m=\u001b[0m\u001b[0msteps_per_epoch\u001b[0m\u001b[1;33m,\u001b[0m\u001b[1;33m\u001b[0m\u001b[1;33m\u001b[0m\u001b[0m\n\u001b[0;32m   1238\u001b[0m                                         \u001b[0mvalidation_steps\u001b[0m\u001b[1;33m=\u001b[0m\u001b[0mvalidation_steps\u001b[0m\u001b[1;33m,\u001b[0m\u001b[1;33m\u001b[0m\u001b[1;33m\u001b[0m\u001b[0m\n\u001b[1;32m-> 1239\u001b[1;33m                                         validation_freq=validation_freq)\n\u001b[0m\u001b[0;32m   1240\u001b[0m \u001b[1;33m\u001b[0m\u001b[0m\n\u001b[0;32m   1241\u001b[0m     def evaluate(self,\n",
      "\u001b[1;32md:\\anaconda3\\envs\\tf14_py36\\lib\\site-packages\\keras\\engine\\training_arrays.py\u001b[0m in \u001b[0;36mfit_loop\u001b[1;34m(model, fit_function, fit_inputs, out_labels, batch_size, epochs, verbose, callbacks, val_function, val_inputs, shuffle, initial_epoch, steps_per_epoch, validation_steps, validation_freq)\u001b[0m\n\u001b[0;32m    194\u001b[0m                     \u001b[0mins_batch\u001b[0m\u001b[1;33m[\u001b[0m\u001b[0mi\u001b[0m\u001b[1;33m]\u001b[0m \u001b[1;33m=\u001b[0m \u001b[0mins_batch\u001b[0m\u001b[1;33m[\u001b[0m\u001b[0mi\u001b[0m\u001b[1;33m]\u001b[0m\u001b[1;33m.\u001b[0m\u001b[0mtoarray\u001b[0m\u001b[1;33m(\u001b[0m\u001b[1;33m)\u001b[0m\u001b[1;33m\u001b[0m\u001b[1;33m\u001b[0m\u001b[0m\n\u001b[0;32m    195\u001b[0m \u001b[1;33m\u001b[0m\u001b[0m\n\u001b[1;32m--> 196\u001b[1;33m                 \u001b[0mouts\u001b[0m \u001b[1;33m=\u001b[0m \u001b[0mfit_function\u001b[0m\u001b[1;33m(\u001b[0m\u001b[0mins_batch\u001b[0m\u001b[1;33m)\u001b[0m\u001b[1;33m\u001b[0m\u001b[1;33m\u001b[0m\u001b[0m\n\u001b[0m\u001b[0;32m    197\u001b[0m                 \u001b[0mouts\u001b[0m \u001b[1;33m=\u001b[0m \u001b[0mto_list\u001b[0m\u001b[1;33m(\u001b[0m\u001b[0mouts\u001b[0m\u001b[1;33m)\u001b[0m\u001b[1;33m\u001b[0m\u001b[1;33m\u001b[0m\u001b[0m\n\u001b[0;32m    198\u001b[0m                 \u001b[1;32mfor\u001b[0m \u001b[0ml\u001b[0m\u001b[1;33m,\u001b[0m \u001b[0mo\u001b[0m \u001b[1;32min\u001b[0m \u001b[0mzip\u001b[0m\u001b[1;33m(\u001b[0m\u001b[0mout_labels\u001b[0m\u001b[1;33m,\u001b[0m \u001b[0mouts\u001b[0m\u001b[1;33m)\u001b[0m\u001b[1;33m:\u001b[0m\u001b[1;33m\u001b[0m\u001b[1;33m\u001b[0m\u001b[0m\n",
      "\u001b[1;32md:\\anaconda3\\envs\\tf14_py36\\lib\\site-packages\\tensorflow\\python\\keras\\backend.py\u001b[0m in \u001b[0;36m__call__\u001b[1;34m(self, inputs)\u001b[0m\n\u001b[0;32m   3290\u001b[0m \u001b[1;33m\u001b[0m\u001b[0m\n\u001b[0;32m   3291\u001b[0m     fetched = self._callable_fn(*array_vals,\n\u001b[1;32m-> 3292\u001b[1;33m                                 run_metadata=self.run_metadata)\n\u001b[0m\u001b[0;32m   3293\u001b[0m     \u001b[0mself\u001b[0m\u001b[1;33m.\u001b[0m\u001b[0m_call_fetch_callbacks\u001b[0m\u001b[1;33m(\u001b[0m\u001b[0mfetched\u001b[0m\u001b[1;33m[\u001b[0m\u001b[1;33m-\u001b[0m\u001b[0mlen\u001b[0m\u001b[1;33m(\u001b[0m\u001b[0mself\u001b[0m\u001b[1;33m.\u001b[0m\u001b[0m_fetches\u001b[0m\u001b[1;33m)\u001b[0m\u001b[1;33m:\u001b[0m\u001b[1;33m]\u001b[0m\u001b[1;33m)\u001b[0m\u001b[1;33m\u001b[0m\u001b[1;33m\u001b[0m\u001b[0m\n\u001b[0;32m   3294\u001b[0m     output_structure = nest.pack_sequence_as(\n",
      "\u001b[1;32md:\\anaconda3\\envs\\tf14_py36\\lib\\site-packages\\tensorflow\\python\\client\\session.py\u001b[0m in \u001b[0;36m__call__\u001b[1;34m(self, *args, **kwargs)\u001b[0m\n\u001b[0;32m   1456\u001b[0m         ret = tf_session.TF_SessionRunCallable(self._session._session,\n\u001b[0;32m   1457\u001b[0m                                                \u001b[0mself\u001b[0m\u001b[1;33m.\u001b[0m\u001b[0m_handle\u001b[0m\u001b[1;33m,\u001b[0m \u001b[0margs\u001b[0m\u001b[1;33m,\u001b[0m\u001b[1;33m\u001b[0m\u001b[1;33m\u001b[0m\u001b[0m\n\u001b[1;32m-> 1458\u001b[1;33m                                                run_metadata_ptr)\n\u001b[0m\u001b[0;32m   1459\u001b[0m         \u001b[1;32mif\u001b[0m \u001b[0mrun_metadata\u001b[0m\u001b[1;33m:\u001b[0m\u001b[1;33m\u001b[0m\u001b[1;33m\u001b[0m\u001b[0m\n\u001b[0;32m   1460\u001b[0m           \u001b[0mproto_data\u001b[0m \u001b[1;33m=\u001b[0m \u001b[0mtf_session\u001b[0m\u001b[1;33m.\u001b[0m\u001b[0mTF_GetBuffer\u001b[0m\u001b[1;33m(\u001b[0m\u001b[0mrun_metadata_ptr\u001b[0m\u001b[1;33m)\u001b[0m\u001b[1;33m\u001b[0m\u001b[1;33m\u001b[0m\u001b[0m\n",
      "\u001b[1;31mKeyboardInterrupt\u001b[0m: "
     ]
    },
    {
     "name": "stdout",
     "output_type": "stream",
     "text": [
      "time: 7min 46s\n"
     ]
    }
   ],
   "source": [
    "from Model import BiLstmCrfTrainer\n",
    "from Prepare_sents import CATEGORY\n",
    "from keras.callbacks import EarlyStopping\n",
    "\n",
    "BATCH_SIZE = 32\n",
    "EPOCH = 50\n",
    "\n",
    "model = BiLstmCrfTrainer(category_count = len(CATEGORY)+1,\n",
    "                         seq_len = train_X.shape[1],\n",
    "                         vocab_size = emb_matrix.shape[0],\n",
    "                         emb_matrix = emb_matrix).build()\n",
    "\n",
    "early_stopping = EarlyStopping(monitor='val_crf_viterbi_accuracy', patience=2, mode='max')\n",
    "\n",
    "print('开始训练啦！！')\n",
    "print(20*\"===\")\n",
    "history = model.fit(train_X,train_Y,batch_size=BATCH_SIZE,\n",
    "                    epochs = EPOCH,\n",
    "                    callbacks = [early_stopping],\n",
    "                    validation_data = (val_X,val_Y)\n",
    "                    )"
   ]
  }
 ],
 "metadata": {
  "kernelspec": {
   "display_name": "Python 3",
   "language": "python",
   "name": "python3"
  },
  "language_info": {
   "codemirror_mode": {
    "name": "ipython",
    "version": 3
   },
   "file_extension": ".py",
   "mimetype": "text/x-python",
   "name": "python",
   "nbconvert_exporter": "python",
   "pygments_lexer": "ipython3",
   "version": "3.6.9"
  },
  "toc-autonumbering": true
 },
 "nbformat": 4,
 "nbformat_minor": 4
}
